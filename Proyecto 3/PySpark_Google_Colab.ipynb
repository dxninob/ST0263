{
  "cells": [
    {
      "cell_type": "markdown",
      "metadata": {
        "id": "FhO1Lnne0iB4"
      },
      "source": [
        "# Data Processing using PySpark"
      ]
    },
    {
      "cell_type": "markdown",
      "source": [
        "### Configurar Spark y PySpark en Google Colab"
      ],
      "metadata": {
        "id": "meOHWD3BMAGc"
      }
    },
    {
      "cell_type": "code",
      "execution_count": 1,
      "metadata": {
        "id": "3zTy_e0R0iCC"
      },
      "outputs": [],
      "source": [
        "# Instalar Java y Spark\n",
        "!apt-get install openjdk-11-jdk-headless -qq > /dev/null\n",
        "!wget -q https://downloads.apache.org/spark/spark-3.3.1/spark-3.3.1-bin-hadoop3.tgz\n",
        "!tar xf spark-3.3.1-bin-hadoop3.tgz\n",
        "!pip install -q findspark"
      ]
    },
    {
      "cell_type": "code",
      "execution_count": 2,
      "metadata": {
        "id": "HxAssRXI0iCD"
      },
      "outputs": [],
      "source": [
        "import os\n",
        "os.environ[\"JAVA_HOME\"] = \"/usr/lib/jvm/java-11-openjdk-amd64\"\n",
        "os.environ[\"SPARK_HOME\"] = \"/content/spark-3.3.1-bin-hadoop3\""
      ]
    },
    {
      "cell_type": "code",
      "execution_count": 3,
      "metadata": {
        "id": "iNDGUpBj0iCE"
      },
      "outputs": [],
      "source": [
        "# Crear los dos objetos para trabajar en Spark\n",
        "import findspark\n",
        "findspark.init()\n",
        "from pyspark.sql import SparkSession\n",
        "spark = SparkSession.builder.master(\"local[*]\").getOrCreate()\n",
        "sc = spark.sparkContext"
      ]
    },
    {
      "cell_type": "code",
      "execution_count": 4,
      "metadata": {
        "colab": {
          "base_uri": "https://localhost:8080/",
          "height": 219
        },
        "id": "JRJQ7wc90iCE",
        "outputId": "ad15c2b5-5fb7-48c4-dd73-d65d001664c7"
      },
      "outputs": [
        {
          "output_type": "execute_result",
          "data": {
            "text/plain": [
              "<pyspark.sql.session.SparkSession at 0x7fa32f4ffc90>"
            ],
            "text/html": [
              "\n",
              "            <div>\n",
              "                <p><b>SparkSession - in-memory</b></p>\n",
              "                \n",
              "        <div>\n",
              "            <p><b>SparkContext</b></p>\n",
              "\n",
              "            <p><a href=\"http://e32d660d94a4:4040\">Spark UI</a></p>\n",
              "\n",
              "            <dl>\n",
              "              <dt>Version</dt>\n",
              "                <dd><code>v3.3.1</code></dd>\n",
              "              <dt>Master</dt>\n",
              "                <dd><code>local[*]</code></dd>\n",
              "              <dt>AppName</dt>\n",
              "                <dd><code>pyspark-shell</code></dd>\n",
              "            </dl>\n",
              "        </div>\n",
              "        \n",
              "            </div>\n",
              "        "
            ]
          },
          "metadata": {},
          "execution_count": 4
        }
      ],
      "source": [
        "spark"
      ]
    },
    {
      "cell_type": "code",
      "execution_count": 5,
      "metadata": {
        "colab": {
          "base_uri": "https://localhost:8080/",
          "height": 196
        },
        "id": "ars96dr80iCF",
        "outputId": "5e67283a-961c-4e13-d370-a9b62813ce0c"
      },
      "outputs": [
        {
          "output_type": "execute_result",
          "data": {
            "text/plain": [
              "<SparkContext master=local[*] appName=pyspark-shell>"
            ],
            "text/html": [
              "\n",
              "        <div>\n",
              "            <p><b>SparkContext</b></p>\n",
              "\n",
              "            <p><a href=\"http://e32d660d94a4:4040\">Spark UI</a></p>\n",
              "\n",
              "            <dl>\n",
              "              <dt>Version</dt>\n",
              "                <dd><code>v3.3.1</code></dd>\n",
              "              <dt>Master</dt>\n",
              "                <dd><code>local[*]</code></dd>\n",
              "              <dt>AppName</dt>\n",
              "                <dd><code>pyspark-shell</code></dd>\n",
              "            </dl>\n",
              "        </div>\n",
              "        "
            ]
          },
          "metadata": {},
          "execution_count": 5
        }
      ],
      "source": [
        "sc"
      ]
    },
    {
      "cell_type": "markdown",
      "source": [
        "### Cargar los datos desde Google Drive"
      ],
      "metadata": {
        "id": "jIib8dc2L7RE"
      }
    },
    {
      "cell_type": "code",
      "execution_count": 6,
      "metadata": {
        "colab": {
          "base_uri": "https://localhost:8080/"
        },
        "id": "-tKmeh_w0iB_",
        "outputId": "cd484f01-9b60-4b74-8328-5f785144daf7"
      },
      "outputs": [
        {
          "output_type": "stream",
          "name": "stdout",
          "text": [
            "Mounted at /content/gdrive\n"
          ]
        }
      ],
      "source": [
        "# Conectar Google Drive con Colab\n",
        "from google.colab import drive\n",
        "drive.mount('/content/gdrive')"
      ]
    },
    {
      "cell_type": "code",
      "execution_count": 7,
      "metadata": {
        "id": "X_eFinXV0iCG"
      },
      "outputs": [],
      "source": [
        "# Cargar los datos desde Google Drive a un dataframe\n",
        "df=spark.read.csv('gdrive/MyDrive/st0263-2266/bigdata/datasets/covid19/Casos_positivos_de_COVID-19_en_Colombia-100K.csv',inferSchema=True,header=True)"
      ]
    },
    {
      "cell_type": "markdown",
      "source": [
        "### Análisis exploratorio de los datos con dataframes"
      ],
      "metadata": {
        "id": "ERg6zb8rLla3"
      }
    },
    {
      "cell_type": "code",
      "source": [
        "from pyspark.sql.types import StringType,DoubleType,IntegerType"
      ],
      "metadata": {
        "id": "IQOsdeq2V0JX"
      },
      "execution_count": 8,
      "outputs": []
    },
    {
      "cell_type": "markdown",
      "source": [
        "#### 2.1. Columnas"
      ],
      "metadata": {
        "id": "zrBvKCs9RlGs"
      }
    },
    {
      "cell_type": "code",
      "execution_count": 9,
      "metadata": {
        "colab": {
          "base_uri": "https://localhost:8080/"
        },
        "id": "SOg4_bSJ0iCH",
        "outputId": "acff9cc8-31b7-4011-b66b-fbf989b1b19b"
      },
      "outputs": [
        {
          "output_type": "execute_result",
          "data": {
            "text/plain": [
              "['fecha reporte web',\n",
              " 'ID de caso',\n",
              " 'Fecha de notificación',\n",
              " 'Código DIVIPOLA departamento',\n",
              " 'Nombre departamento',\n",
              " 'Código DIVIPOLA municipio',\n",
              " 'Nombre municipio',\n",
              " 'Edad',\n",
              " 'Unidad de medida de edad',\n",
              " 'Sexo',\n",
              " 'Tipo de contagio',\n",
              " 'Ubicación del caso',\n",
              " 'Estado',\n",
              " 'Código ISO del país',\n",
              " 'Nombre del país',\n",
              " 'Recuperado',\n",
              " 'Fecha de inicio de síntomas',\n",
              " 'Fecha de muerte',\n",
              " 'Fecha de diagnóstico',\n",
              " 'Fecha de recuperación',\n",
              " 'Tipo de recuperación',\n",
              " 'Pertenencia étnica',\n",
              " 'Nombre del grupo étnico']"
            ]
          },
          "metadata": {},
          "execution_count": 9
        }
      ],
      "source": [
        "# Ver el nombre de todas las columnas\n",
        "df.columns"
      ]
    },
    {
      "cell_type": "markdown",
      "source": [
        "#### 2.2. Tipos de datos"
      ],
      "metadata": {
        "id": "oRHIqNTWR3Ef"
      }
    },
    {
      "cell_type": "code",
      "source": [
        "# Ver el tipo de dato de todas las columnas\n",
        "df.dtypes"
      ],
      "metadata": {
        "colab": {
          "base_uri": "https://localhost:8080/"
        },
        "id": "NjFjxxO6HknG",
        "outputId": "5583d4d9-8068-4140-ca04-300a8480d27d"
      },
      "execution_count": 10,
      "outputs": [
        {
          "output_type": "execute_result",
          "data": {
            "text/plain": [
              "[('fecha reporte web', 'string'),\n",
              " ('ID de caso', 'int'),\n",
              " ('Fecha de notificación', 'string'),\n",
              " ('Código DIVIPOLA departamento', 'int'),\n",
              " ('Nombre departamento', 'string'),\n",
              " ('Código DIVIPOLA municipio', 'int'),\n",
              " ('Nombre municipio', 'string'),\n",
              " ('Edad', 'int'),\n",
              " ('Unidad de medida de edad', 'int'),\n",
              " ('Sexo', 'string'),\n",
              " ('Tipo de contagio', 'string'),\n",
              " ('Ubicación del caso', 'string'),\n",
              " ('Estado', 'string'),\n",
              " ('Código ISO del país', 'int'),\n",
              " ('Nombre del país', 'string'),\n",
              " ('Recuperado', 'string'),\n",
              " ('Fecha de inicio de síntomas', 'string'),\n",
              " ('Fecha de muerte', 'string'),\n",
              " ('Fecha de diagnóstico', 'string'),\n",
              " ('Fecha de recuperación', 'string'),\n",
              " ('Tipo de recuperación', 'string'),\n",
              " ('Pertenencia étnica', 'int'),\n",
              " ('Nombre del grupo étnico', 'string')]"
            ]
          },
          "metadata": {},
          "execution_count": 10
        }
      ]
    },
    {
      "cell_type": "markdown",
      "source": [
        "#### 2.3. Seleccionar algunas Columnas"
      ],
      "metadata": {
        "id": "D20Vs-A6R_E5"
      }
    },
    {
      "cell_type": "code",
      "source": [
        "# Seleccionar la columna de la fecha de notificación\n",
        "df.select('Fecha de notificación').show(5)"
      ],
      "metadata": {
        "colab": {
          "base_uri": "https://localhost:8080/"
        },
        "id": "WafnQJfwIQ5q",
        "outputId": "c230fd70-e170-4726-9010-7338f6d4b81c"
      },
      "execution_count": 11,
      "outputs": [
        {
          "output_type": "stream",
          "name": "stdout",
          "text": [
            "+---------------------+\n",
            "|Fecha de notificación|\n",
            "+---------------------+\n",
            "|     2/3/2020 0:00:00|\n",
            "|     6/3/2020 0:00:00|\n",
            "|     7/3/2020 0:00:00|\n",
            "|     9/3/2020 0:00:00|\n",
            "|     9/3/2020 0:00:00|\n",
            "+---------------------+\n",
            "only showing top 5 rows\n",
            "\n"
          ]
        }
      ]
    },
    {
      "cell_type": "code",
      "source": [
        "# Seleccionar las columnas del id de caso, fecha de diagnóstico y fecha de recuperación\n",
        "df.select('ID de caso','Fecha de diagnóstico', 'Fecha de recuperación').show(5)"
      ],
      "metadata": {
        "colab": {
          "base_uri": "https://localhost:8080/"
        },
        "outputId": "3e30c717-de03-4467-c38b-503f8890b867",
        "id": "NW_tDtY9BAzF"
      },
      "execution_count": 12,
      "outputs": [
        {
          "output_type": "stream",
          "name": "stdout",
          "text": [
            "+----------+--------------------+---------------------+\n",
            "|ID de caso|Fecha de diagnóstico|Fecha de recuperación|\n",
            "+----------+--------------------+---------------------+\n",
            "|         1|    6/3/2020 0:00:00|    13/3/2020 0:00:00|\n",
            "|         2|    9/3/2020 0:00:00|    19/3/2020 0:00:00|\n",
            "|         3|    9/3/2020 0:00:00|    15/3/2020 0:00:00|\n",
            "|         4|   11/3/2020 0:00:00|    26/3/2020 0:00:00|\n",
            "|         5|   11/3/2020 0:00:00|    23/3/2020 0:00:00|\n",
            "+----------+--------------------+---------------------+\n",
            "only showing top 5 rows\n",
            "\n"
          ]
        }
      ]
    },
    {
      "cell_type": "code",
      "source": [
        "# Seleccionar las columnas del sexo y de recuperado\n",
        "df.select('Sexo', 'Recuperado').show(5)"
      ],
      "metadata": {
        "colab": {
          "base_uri": "https://localhost:8080/"
        },
        "outputId": "c727a22c-39be-46d6-e51e-adae62e07b0f",
        "id": "_dcoMUH3I_kT"
      },
      "execution_count": 13,
      "outputs": [
        {
          "output_type": "stream",
          "name": "stdout",
          "text": [
            "+----+----------+\n",
            "|Sexo|Recuperado|\n",
            "+----+----------+\n",
            "|   F|Recuperado|\n",
            "|   M|Recuperado|\n",
            "|   F|Recuperado|\n",
            "|   M|Recuperado|\n",
            "|   M|Recuperado|\n",
            "+----+----------+\n",
            "only showing top 5 rows\n",
            "\n"
          ]
        }
      ]
    },
    {
      "cell_type": "markdown",
      "source": [
        "#### 2.4. Renombrar columnas"
      ],
      "metadata": {
        "id": "p8H-xkwGSqrY"
      }
    },
    {
      "cell_type": "code",
      "source": [
        "# Renombrar columna ID de caso a id\n",
        "df.withColumnRenamed('ID de caso', 'id').show(5)"
      ],
      "metadata": {
        "colab": {
          "base_uri": "https://localhost:8080/"
        },
        "id": "gPLp2MCg3G7q",
        "outputId": "3b513bea-5490-4e36-8cf0-63b608405cf0"
      },
      "execution_count": 14,
      "outputs": [
        {
          "output_type": "stream",
          "name": "stdout",
          "text": [
            "+-----------------+---+---------------------+----------------------------+-------------------+-------------------------+----------------+----+------------------------+----+----------------+------------------+------+-------------------+---------------+----------+---------------------------+---------------+--------------------+---------------------+--------------------+------------------+-----------------------+\n",
            "|fecha reporte web| id|Fecha de notificación|Código DIVIPOLA departamento|Nombre departamento|Código DIVIPOLA municipio|Nombre municipio|Edad|Unidad de medida de edad|Sexo|Tipo de contagio|Ubicación del caso|Estado|Código ISO del país|Nombre del país|Recuperado|Fecha de inicio de síntomas|Fecha de muerte|Fecha de diagnóstico|Fecha de recuperación|Tipo de recuperación|Pertenencia étnica|Nombre del grupo étnico|\n",
            "+-----------------+---+---------------------+----------------------------+-------------------+-------------------------+----------------+----+------------------------+----+----------------+------------------+------+-------------------+---------------+----------+---------------------------+---------------+--------------------+---------------------+--------------------+------------------+-----------------------+\n",
            "| 6/3/2020 0:00:00|  1|     2/3/2020 0:00:00|                          11|             BOGOTA|                    11001|          BOGOTA|  19|                       1|   F|       Importado|              Casa|  Leve|                380|         ITALIA|Recuperado|          27/2/2020 0:00:00|           null|    6/3/2020 0:00:00|    13/3/2020 0:00:00|                 PCR|                 6|                   null|\n",
            "| 9/3/2020 0:00:00|  2|     6/3/2020 0:00:00|                          76|              VALLE|                    76111|            BUGA|  34|                       1|   M|       Importado|              Casa|  Leve|                724|         ESPAÑA|Recuperado|           4/3/2020 0:00:00|           null|    9/3/2020 0:00:00|    19/3/2020 0:00:00|                 PCR|                 5|                   null|\n",
            "| 9/3/2020 0:00:00|  3|     7/3/2020 0:00:00|                           5|          ANTIOQUIA|                     5001|        MEDELLIN|  50|                       1|   F|       Importado|              Casa|  Leve|                724|         ESPAÑA|Recuperado|          29/2/2020 0:00:00|           null|    9/3/2020 0:00:00|    15/3/2020 0:00:00|                 PCR|                 6|                   null|\n",
            "|11/3/2020 0:00:00|  4|     9/3/2020 0:00:00|                           5|          ANTIOQUIA|                     5001|        MEDELLIN|  55|                       1|   M|     Relacionado|              Casa|  Leve|               null|           null|Recuperado|           6/3/2020 0:00:00|           null|   11/3/2020 0:00:00|    26/3/2020 0:00:00|                 PCR|                 6|                   null|\n",
            "|11/3/2020 0:00:00|  5|     9/3/2020 0:00:00|                           5|          ANTIOQUIA|                     5001|        MEDELLIN|  25|                       1|   M|     Relacionado|              Casa|  Leve|               null|           null|Recuperado|           8/3/2020 0:00:00|           null|   11/3/2020 0:00:00|    23/3/2020 0:00:00|                 PCR|                 6|                   null|\n",
            "+-----------------+---+---------------------+----------------------------+-------------------+-------------------------+----------------+----+------------------------+----+----------------+------------------+------+-------------------+---------------+----------+---------------------------+---------------+--------------------+---------------------+--------------------+------------------+-----------------------+\n",
            "only showing top 5 rows\n",
            "\n"
          ]
        }
      ]
    },
    {
      "cell_type": "code",
      "source": [
        "# Renombrar columna fecha reporte web a Report Date y ID de caso a Case ID\n",
        "df.withColumnRenamed('fecha reporte web', 'Report Date').withColumnRenamed('ID de caso', 'Case ID').show(5)"
      ],
      "metadata": {
        "colab": {
          "base_uri": "https://localhost:8080/"
        },
        "id": "dJmi_R-h3Y58",
        "outputId": "d441e125-8434-49f7-e9e0-aa9ee08a4ec6"
      },
      "execution_count": 15,
      "outputs": [
        {
          "output_type": "stream",
          "name": "stdout",
          "text": [
            "+-----------------+-------+---------------------+----------------------------+-------------------+-------------------------+----------------+----+------------------------+----+----------------+------------------+------+-------------------+---------------+----------+---------------------------+---------------+--------------------+---------------------+--------------------+------------------+-----------------------+\n",
            "|      Report Date|Case ID|Fecha de notificación|Código DIVIPOLA departamento|Nombre departamento|Código DIVIPOLA municipio|Nombre municipio|Edad|Unidad de medida de edad|Sexo|Tipo de contagio|Ubicación del caso|Estado|Código ISO del país|Nombre del país|Recuperado|Fecha de inicio de síntomas|Fecha de muerte|Fecha de diagnóstico|Fecha de recuperación|Tipo de recuperación|Pertenencia étnica|Nombre del grupo étnico|\n",
            "+-----------------+-------+---------------------+----------------------------+-------------------+-------------------------+----------------+----+------------------------+----+----------------+------------------+------+-------------------+---------------+----------+---------------------------+---------------+--------------------+---------------------+--------------------+------------------+-----------------------+\n",
            "| 6/3/2020 0:00:00|      1|     2/3/2020 0:00:00|                          11|             BOGOTA|                    11001|          BOGOTA|  19|                       1|   F|       Importado|              Casa|  Leve|                380|         ITALIA|Recuperado|          27/2/2020 0:00:00|           null|    6/3/2020 0:00:00|    13/3/2020 0:00:00|                 PCR|                 6|                   null|\n",
            "| 9/3/2020 0:00:00|      2|     6/3/2020 0:00:00|                          76|              VALLE|                    76111|            BUGA|  34|                       1|   M|       Importado|              Casa|  Leve|                724|         ESPAÑA|Recuperado|           4/3/2020 0:00:00|           null|    9/3/2020 0:00:00|    19/3/2020 0:00:00|                 PCR|                 5|                   null|\n",
            "| 9/3/2020 0:00:00|      3|     7/3/2020 0:00:00|                           5|          ANTIOQUIA|                     5001|        MEDELLIN|  50|                       1|   F|       Importado|              Casa|  Leve|                724|         ESPAÑA|Recuperado|          29/2/2020 0:00:00|           null|    9/3/2020 0:00:00|    15/3/2020 0:00:00|                 PCR|                 6|                   null|\n",
            "|11/3/2020 0:00:00|      4|     9/3/2020 0:00:00|                           5|          ANTIOQUIA|                     5001|        MEDELLIN|  55|                       1|   M|     Relacionado|              Casa|  Leve|               null|           null|Recuperado|           6/3/2020 0:00:00|           null|   11/3/2020 0:00:00|    26/3/2020 0:00:00|                 PCR|                 6|                   null|\n",
            "|11/3/2020 0:00:00|      5|     9/3/2020 0:00:00|                           5|          ANTIOQUIA|                     5001|        MEDELLIN|  25|                       1|   M|     Relacionado|              Casa|  Leve|               null|           null|Recuperado|           8/3/2020 0:00:00|           null|   11/3/2020 0:00:00|    23/3/2020 0:00:00|                 PCR|                 6|                   null|\n",
            "+-----------------+-------+---------------------+----------------------------+-------------------+-------------------------+----------------+----+------------------------+----+----------------+------------------+------+-------------------+---------------+----------+---------------------------+---------------+--------------------+---------------------+--------------------+------------------+-----------------------+\n",
            "only showing top 5 rows\n",
            "\n"
          ]
        }
      ]
    },
    {
      "cell_type": "markdown",
      "source": [
        "#### 2.5. Agregar columnas"
      ],
      "metadata": {
        "id": "DI8ai5iSSzq2"
      }
    },
    {
      "cell_type": "code",
      "source": [
        "# Agregar una columna que incremente la edad de las personas 10 años\n",
        "df.withColumn(\"Edad + 10 años\",(df[\"Edad\"]+10)).show(5)"
      ],
      "metadata": {
        "colab": {
          "base_uri": "https://localhost:8080/"
        },
        "id": "r76SRrddMkyv",
        "outputId": "5463ecfe-a4bc-435e-97b3-3f9a86da363e"
      },
      "execution_count": 16,
      "outputs": [
        {
          "output_type": "stream",
          "name": "stdout",
          "text": [
            "+-----------------+----------+---------------------+----------------------------+-------------------+-------------------------+----------------+----+------------------------+----+----------------+------------------+------+-------------------+---------------+----------+---------------------------+---------------+--------------------+---------------------+--------------------+------------------+-----------------------+--------------+\n",
            "|fecha reporte web|ID de caso|Fecha de notificación|Código DIVIPOLA departamento|Nombre departamento|Código DIVIPOLA municipio|Nombre municipio|Edad|Unidad de medida de edad|Sexo|Tipo de contagio|Ubicación del caso|Estado|Código ISO del país|Nombre del país|Recuperado|Fecha de inicio de síntomas|Fecha de muerte|Fecha de diagnóstico|Fecha de recuperación|Tipo de recuperación|Pertenencia étnica|Nombre del grupo étnico|Edad + 10 años|\n",
            "+-----------------+----------+---------------------+----------------------------+-------------------+-------------------------+----------------+----+------------------------+----+----------------+------------------+------+-------------------+---------------+----------+---------------------------+---------------+--------------------+---------------------+--------------------+------------------+-----------------------+--------------+\n",
            "| 6/3/2020 0:00:00|         1|     2/3/2020 0:00:00|                          11|             BOGOTA|                    11001|          BOGOTA|  19|                       1|   F|       Importado|              Casa|  Leve|                380|         ITALIA|Recuperado|          27/2/2020 0:00:00|           null|    6/3/2020 0:00:00|    13/3/2020 0:00:00|                 PCR|                 6|                   null|            29|\n",
            "| 9/3/2020 0:00:00|         2|     6/3/2020 0:00:00|                          76|              VALLE|                    76111|            BUGA|  34|                       1|   M|       Importado|              Casa|  Leve|                724|         ESPAÑA|Recuperado|           4/3/2020 0:00:00|           null|    9/3/2020 0:00:00|    19/3/2020 0:00:00|                 PCR|                 5|                   null|            44|\n",
            "| 9/3/2020 0:00:00|         3|     7/3/2020 0:00:00|                           5|          ANTIOQUIA|                     5001|        MEDELLIN|  50|                       1|   F|       Importado|              Casa|  Leve|                724|         ESPAÑA|Recuperado|          29/2/2020 0:00:00|           null|    9/3/2020 0:00:00|    15/3/2020 0:00:00|                 PCR|                 6|                   null|            60|\n",
            "|11/3/2020 0:00:00|         4|     9/3/2020 0:00:00|                           5|          ANTIOQUIA|                     5001|        MEDELLIN|  55|                       1|   M|     Relacionado|              Casa|  Leve|               null|           null|Recuperado|           6/3/2020 0:00:00|           null|   11/3/2020 0:00:00|    26/3/2020 0:00:00|                 PCR|                 6|                   null|            65|\n",
            "|11/3/2020 0:00:00|         5|     9/3/2020 0:00:00|                           5|          ANTIOQUIA|                     5001|        MEDELLIN|  25|                       1|   M|     Relacionado|              Casa|  Leve|               null|           null|Recuperado|           8/3/2020 0:00:00|           null|   11/3/2020 0:00:00|    23/3/2020 0:00:00|                 PCR|                 6|                   null|            35|\n",
            "+-----------------+----------+---------------------+----------------------------+-------------------+-------------------------+----------------+----+------------------------+----+----------------+------------------+------+-------------------+---------------+----------+---------------------------+---------------+--------------------+---------------------+--------------------+------------------+-----------------------+--------------+\n",
            "only showing top 5 rows\n",
            "\n"
          ]
        }
      ]
    },
    {
      "cell_type": "code",
      "source": [
        "# Agregar una fila que contenga el id del caso en un String\n",
        "df.withColumn('ID caso string',df[\"ID de caso\"].cast(StringType())).dtypes"
      ],
      "metadata": {
        "colab": {
          "base_uri": "https://localhost:8080/"
        },
        "id": "Q44J1xdXTLSj",
        "outputId": "98564e43-7e99-4ad4-e489-1ca1118345ed"
      },
      "execution_count": 17,
      "outputs": [
        {
          "output_type": "execute_result",
          "data": {
            "text/plain": [
              "[('fecha reporte web', 'string'),\n",
              " ('ID de caso', 'int'),\n",
              " ('Fecha de notificación', 'string'),\n",
              " ('Código DIVIPOLA departamento', 'int'),\n",
              " ('Nombre departamento', 'string'),\n",
              " ('Código DIVIPOLA municipio', 'int'),\n",
              " ('Nombre municipio', 'string'),\n",
              " ('Edad', 'int'),\n",
              " ('Unidad de medida de edad', 'int'),\n",
              " ('Sexo', 'string'),\n",
              " ('Tipo de contagio', 'string'),\n",
              " ('Ubicación del caso', 'string'),\n",
              " ('Estado', 'string'),\n",
              " ('Código ISO del país', 'int'),\n",
              " ('Nombre del país', 'string'),\n",
              " ('Recuperado', 'string'),\n",
              " ('Fecha de inicio de síntomas', 'string'),\n",
              " ('Fecha de muerte', 'string'),\n",
              " ('Fecha de diagnóstico', 'string'),\n",
              " ('Fecha de recuperación', 'string'),\n",
              " ('Tipo de recuperación', 'string'),\n",
              " ('Pertenencia étnica', 'int'),\n",
              " ('Nombre del grupo étnico', 'string'),\n",
              " ('ID caso string', 'string')]"
            ]
          },
          "metadata": {},
          "execution_count": 17
        }
      ]
    },
    {
      "cell_type": "code",
      "source": [
        "# Agregar la columna con la suma del ID del caso de la persona con su edad\n",
        "df.withColumn(\"Ubicación\",df[\"ID de caso\"]+ df[\"Edad\"]).show(5)"
      ],
      "metadata": {
        "colab": {
          "base_uri": "https://localhost:8080/"
        },
        "id": "Xtk0RpMTUy1f",
        "outputId": "eb957b17-2557-4c12-8d38-5f41acc9bb5d"
      },
      "execution_count": 18,
      "outputs": [
        {
          "output_type": "stream",
          "name": "stdout",
          "text": [
            "+-----------------+----------+---------------------+----------------------------+-------------------+-------------------------+----------------+----+------------------------+----+----------------+------------------+------+-------------------+---------------+----------+---------------------------+---------------+--------------------+---------------------+--------------------+------------------+-----------------------+---------+\n",
            "|fecha reporte web|ID de caso|Fecha de notificación|Código DIVIPOLA departamento|Nombre departamento|Código DIVIPOLA municipio|Nombre municipio|Edad|Unidad de medida de edad|Sexo|Tipo de contagio|Ubicación del caso|Estado|Código ISO del país|Nombre del país|Recuperado|Fecha de inicio de síntomas|Fecha de muerte|Fecha de diagnóstico|Fecha de recuperación|Tipo de recuperación|Pertenencia étnica|Nombre del grupo étnico|Ubicación|\n",
            "+-----------------+----------+---------------------+----------------------------+-------------------+-------------------------+----------------+----+------------------------+----+----------------+------------------+------+-------------------+---------------+----------+---------------------------+---------------+--------------------+---------------------+--------------------+------------------+-----------------------+---------+\n",
            "| 6/3/2020 0:00:00|         1|     2/3/2020 0:00:00|                          11|             BOGOTA|                    11001|          BOGOTA|  19|                       1|   F|       Importado|              Casa|  Leve|                380|         ITALIA|Recuperado|          27/2/2020 0:00:00|           null|    6/3/2020 0:00:00|    13/3/2020 0:00:00|                 PCR|                 6|                   null|       20|\n",
            "| 9/3/2020 0:00:00|         2|     6/3/2020 0:00:00|                          76|              VALLE|                    76111|            BUGA|  34|                       1|   M|       Importado|              Casa|  Leve|                724|         ESPAÑA|Recuperado|           4/3/2020 0:00:00|           null|    9/3/2020 0:00:00|    19/3/2020 0:00:00|                 PCR|                 5|                   null|       36|\n",
            "| 9/3/2020 0:00:00|         3|     7/3/2020 0:00:00|                           5|          ANTIOQUIA|                     5001|        MEDELLIN|  50|                       1|   F|       Importado|              Casa|  Leve|                724|         ESPAÑA|Recuperado|          29/2/2020 0:00:00|           null|    9/3/2020 0:00:00|    15/3/2020 0:00:00|                 PCR|                 6|                   null|       53|\n",
            "|11/3/2020 0:00:00|         4|     9/3/2020 0:00:00|                           5|          ANTIOQUIA|                     5001|        MEDELLIN|  55|                       1|   M|     Relacionado|              Casa|  Leve|               null|           null|Recuperado|           6/3/2020 0:00:00|           null|   11/3/2020 0:00:00|    26/3/2020 0:00:00|                 PCR|                 6|                   null|       59|\n",
            "|11/3/2020 0:00:00|         5|     9/3/2020 0:00:00|                           5|          ANTIOQUIA|                     5001|        MEDELLIN|  25|                       1|   M|     Relacionado|              Casa|  Leve|               null|           null|Recuperado|           8/3/2020 0:00:00|           null|   11/3/2020 0:00:00|    23/3/2020 0:00:00|                 PCR|                 6|                   null|       30|\n",
            "+-----------------+----------+---------------------+----------------------------+-------------------+-------------------------+----------------+----+------------------------+----+----------------+------------------+------+-------------------+---------------+----------+---------------------------+---------------+--------------------+---------------------+--------------------+------------------+-----------------------+---------+\n",
            "only showing top 5 rows\n",
            "\n"
          ]
        }
      ]
    },
    {
      "cell_type": "markdown",
      "source": [
        "#### 2.6. Borrar columnas"
      ],
      "metadata": {
        "id": "5jpVfwXMW7wV"
      }
    },
    {
      "cell_type": "code",
      "source": [
        "# Borrar la columna fecha reporte web\n",
        "df.drop('fecha reporte web').show(5)"
      ],
      "metadata": {
        "colab": {
          "base_uri": "https://localhost:8080/"
        },
        "id": "pUBPSAbtMofa",
        "outputId": "68513fbc-727e-4db3-e09d-9798f5d3753b"
      },
      "execution_count": 19,
      "outputs": [
        {
          "output_type": "stream",
          "name": "stdout",
          "text": [
            "+----------+---------------------+----------------------------+-------------------+-------------------------+----------------+----+------------------------+----+----------------+------------------+------+-------------------+---------------+----------+---------------------------+---------------+--------------------+---------------------+--------------------+------------------+-----------------------+\n",
            "|ID de caso|Fecha de notificación|Código DIVIPOLA departamento|Nombre departamento|Código DIVIPOLA municipio|Nombre municipio|Edad|Unidad de medida de edad|Sexo|Tipo de contagio|Ubicación del caso|Estado|Código ISO del país|Nombre del país|Recuperado|Fecha de inicio de síntomas|Fecha de muerte|Fecha de diagnóstico|Fecha de recuperación|Tipo de recuperación|Pertenencia étnica|Nombre del grupo étnico|\n",
            "+----------+---------------------+----------------------------+-------------------+-------------------------+----------------+----+------------------------+----+----------------+------------------+------+-------------------+---------------+----------+---------------------------+---------------+--------------------+---------------------+--------------------+------------------+-----------------------+\n",
            "|         1|     2/3/2020 0:00:00|                          11|             BOGOTA|                    11001|          BOGOTA|  19|                       1|   F|       Importado|              Casa|  Leve|                380|         ITALIA|Recuperado|          27/2/2020 0:00:00|           null|    6/3/2020 0:00:00|    13/3/2020 0:00:00|                 PCR|                 6|                   null|\n",
            "|         2|     6/3/2020 0:00:00|                          76|              VALLE|                    76111|            BUGA|  34|                       1|   M|       Importado|              Casa|  Leve|                724|         ESPAÑA|Recuperado|           4/3/2020 0:00:00|           null|    9/3/2020 0:00:00|    19/3/2020 0:00:00|                 PCR|                 5|                   null|\n",
            "|         3|     7/3/2020 0:00:00|                           5|          ANTIOQUIA|                     5001|        MEDELLIN|  50|                       1|   F|       Importado|              Casa|  Leve|                724|         ESPAÑA|Recuperado|          29/2/2020 0:00:00|           null|    9/3/2020 0:00:00|    15/3/2020 0:00:00|                 PCR|                 6|                   null|\n",
            "|         4|     9/3/2020 0:00:00|                           5|          ANTIOQUIA|                     5001|        MEDELLIN|  55|                       1|   M|     Relacionado|              Casa|  Leve|               null|           null|Recuperado|           6/3/2020 0:00:00|           null|   11/3/2020 0:00:00|    26/3/2020 0:00:00|                 PCR|                 6|                   null|\n",
            "|         5|     9/3/2020 0:00:00|                           5|          ANTIOQUIA|                     5001|        MEDELLIN|  25|                       1|   M|     Relacionado|              Casa|  Leve|               null|           null|Recuperado|           8/3/2020 0:00:00|           null|   11/3/2020 0:00:00|    23/3/2020 0:00:00|                 PCR|                 6|                   null|\n",
            "+----------+---------------------+----------------------------+-------------------+-------------------------+----------------+----+------------------------+----+----------------+------------------+------+-------------------+---------------+----------+---------------------------+---------------+--------------------+---------------------+--------------------+------------------+-----------------------+\n",
            "only showing top 5 rows\n",
            "\n"
          ]
        }
      ]
    },
    {
      "cell_type": "code",
      "source": [
        "# Borrar las columnas fecha reporte web,  ID de caso y Fecha de notificación\n",
        "df.drop('fecha reporte web', 'ID de caso', 'Fecha de notificación').show(5)"
      ],
      "metadata": {
        "colab": {
          "base_uri": "https://localhost:8080/"
        },
        "outputId": "faa82c99-ade4-4443-c6e2-59fdd87bfd16",
        "id": "8K1RmuC_XjCA"
      },
      "execution_count": 20,
      "outputs": [
        {
          "output_type": "stream",
          "name": "stdout",
          "text": [
            "+----------------------------+-------------------+-------------------------+----------------+----+------------------------+----+----------------+------------------+------+-------------------+---------------+----------+---------------------------+---------------+--------------------+---------------------+--------------------+------------------+-----------------------+\n",
            "|Código DIVIPOLA departamento|Nombre departamento|Código DIVIPOLA municipio|Nombre municipio|Edad|Unidad de medida de edad|Sexo|Tipo de contagio|Ubicación del caso|Estado|Código ISO del país|Nombre del país|Recuperado|Fecha de inicio de síntomas|Fecha de muerte|Fecha de diagnóstico|Fecha de recuperación|Tipo de recuperación|Pertenencia étnica|Nombre del grupo étnico|\n",
            "+----------------------------+-------------------+-------------------------+----------------+----+------------------------+----+----------------+------------------+------+-------------------+---------------+----------+---------------------------+---------------+--------------------+---------------------+--------------------+------------------+-----------------------+\n",
            "|                          11|             BOGOTA|                    11001|          BOGOTA|  19|                       1|   F|       Importado|              Casa|  Leve|                380|         ITALIA|Recuperado|          27/2/2020 0:00:00|           null|    6/3/2020 0:00:00|    13/3/2020 0:00:00|                 PCR|                 6|                   null|\n",
            "|                          76|              VALLE|                    76111|            BUGA|  34|                       1|   M|       Importado|              Casa|  Leve|                724|         ESPAÑA|Recuperado|           4/3/2020 0:00:00|           null|    9/3/2020 0:00:00|    19/3/2020 0:00:00|                 PCR|                 5|                   null|\n",
            "|                           5|          ANTIOQUIA|                     5001|        MEDELLIN|  50|                       1|   F|       Importado|              Casa|  Leve|                724|         ESPAÑA|Recuperado|          29/2/2020 0:00:00|           null|    9/3/2020 0:00:00|    15/3/2020 0:00:00|                 PCR|                 6|                   null|\n",
            "|                           5|          ANTIOQUIA|                     5001|        MEDELLIN|  55|                       1|   M|     Relacionado|              Casa|  Leve|               null|           null|Recuperado|           6/3/2020 0:00:00|           null|   11/3/2020 0:00:00|    26/3/2020 0:00:00|                 PCR|                 6|                   null|\n",
            "|                           5|          ANTIOQUIA|                     5001|        MEDELLIN|  25|                       1|   M|     Relacionado|              Casa|  Leve|               null|           null|Recuperado|           8/3/2020 0:00:00|           null|   11/3/2020 0:00:00|    23/3/2020 0:00:00|                 PCR|                 6|                   null|\n",
            "+----------------------------+-------------------+-------------------------+----------------+----+------------------------+----+----------------+------------------+------+-------------------+---------------+----------+---------------------------+---------------+--------------------+---------------------+--------------------+------------------+-----------------------+\n",
            "only showing top 5 rows\n",
            "\n"
          ]
        }
      ]
    },
    {
      "cell_type": "markdown",
      "source": [
        "#### 2.7. Filtrar datos"
      ],
      "metadata": {
        "id": "L5E6RFi4X1Z6"
      }
    },
    {
      "cell_type": "code",
      "source": [
        "# Filtrar a las personas con tipo de contagio relacionado\n",
        "df.filter(df['Tipo de contagio']=='Relacionado').show(5)"
      ],
      "metadata": {
        "colab": {
          "base_uri": "https://localhost:8080/"
        },
        "id": "xl0BgRCBMs_l",
        "outputId": "9a6a3f36-3c70-4330-c4b7-d77c3b404c31"
      },
      "execution_count": 21,
      "outputs": [
        {
          "output_type": "stream",
          "name": "stdout",
          "text": [
            "+-----------------+----------+---------------------+----------------------------+-------------------+-------------------------+----------------+----+------------------------+----+----------------+------------------+------+-------------------+---------------+----------+---------------------------+---------------+--------------------+---------------------+--------------------+------------------+-----------------------+\n",
            "|fecha reporte web|ID de caso|Fecha de notificación|Código DIVIPOLA departamento|Nombre departamento|Código DIVIPOLA municipio|Nombre municipio|Edad|Unidad de medida de edad|Sexo|Tipo de contagio|Ubicación del caso|Estado|Código ISO del país|Nombre del país|Recuperado|Fecha de inicio de síntomas|Fecha de muerte|Fecha de diagnóstico|Fecha de recuperación|Tipo de recuperación|Pertenencia étnica|Nombre del grupo étnico|\n",
            "+-----------------+----------+---------------------+----------------------------+-------------------+-------------------------+----------------+----+------------------------+----+----------------+------------------+------+-------------------+---------------+----------+---------------------------+---------------+--------------------+---------------------+--------------------+------------------+-----------------------+\n",
            "|11/3/2020 0:00:00|         4|     9/3/2020 0:00:00|                           5|          ANTIOQUIA|                     5001|        MEDELLIN|  55|                       1|   M|     Relacionado|              Casa|  Leve|               null|           null|Recuperado|           6/3/2020 0:00:00|           null|   11/3/2020 0:00:00|    26/3/2020 0:00:00|                 PCR|                 6|                   null|\n",
            "|11/3/2020 0:00:00|         5|     9/3/2020 0:00:00|                           5|          ANTIOQUIA|                     5001|        MEDELLIN|  25|                       1|   M|     Relacionado|              Casa|  Leve|               null|           null|Recuperado|           8/3/2020 0:00:00|           null|   11/3/2020 0:00:00|    23/3/2020 0:00:00|                 PCR|                 6|                   null|\n",
            "|11/3/2020 0:00:00|         6|    10/3/2020 0:00:00|                           5|          ANTIOQUIA|                     5360|          ITAGUI|  27|                       1|   F|     Relacionado|              Casa|  Leve|               null|           null|Recuperado|           6/3/2020 0:00:00|           null|   11/3/2020 0:00:00|    26/3/2020 0:00:00|                 PCR|                 6|                   null|\n",
            "|12/3/2020 0:00:00|        13|    10/3/2020 0:00:00|                          41|              HUILA|                    41001|           NEIVA|  68|                       1|   F|     Relacionado|              Casa|  Leve|               null|           null|Recuperado|           6/3/2020 0:00:00|           null|   12/3/2020 0:00:00|    30/3/2020 0:00:00|                 PCR|                 6|                   null|\n",
            "|14/3/2020 0:00:00|        19|    12/3/2020 0:00:00|                          11|             BOGOTA|                    11001|          BOGOTA|  54|                       1|   F|     Relacionado|              Casa|  Leve|               null|           null|Recuperado|           9/3/2020 0:00:00|           null|   14/3/2020 0:00:00|    24/3/2020 0:00:00|                 PCR|                 6|                   null|\n",
            "+-----------------+----------+---------------------+----------------------------+-------------------+-------------------------+----------------+----+------------------------+----+----------------+------------------+------+-------------------+---------------+----------+---------------------------+---------------+--------------------+---------------------+--------------------+------------------+-----------------------+\n",
            "only showing top 5 rows\n",
            "\n"
          ]
        }
      ]
    },
    {
      "cell_type": "code",
      "source": [
        "# Filtrar las mujeres de Medellín que se recuperaron por tiempo\n",
        "df.filter(df['Sexo']=='F').filter(df['Nombre municipio']=='MEDELLIN').filter(df['Tipo de recuperación']=='Tiempo').show(5)"
      ],
      "metadata": {
        "colab": {
          "base_uri": "https://localhost:8080/"
        },
        "id": "PaGb2NRFZCvp",
        "outputId": "9c71bbdb-91a6-40f8-c24d-c221c068f66e"
      },
      "execution_count": 22,
      "outputs": [
        {
          "output_type": "stream",
          "name": "stdout",
          "text": [
            "+-----------------+----------+---------------------+----------------------------+-------------------+-------------------------+----------------+----+------------------------+----+----------------+------------------+------+-------------------+---------------+----------+---------------------------+---------------+--------------------+---------------------+--------------------+------------------+-----------------------+\n",
            "|fecha reporte web|ID de caso|Fecha de notificación|Código DIVIPOLA departamento|Nombre departamento|Código DIVIPOLA municipio|Nombre municipio|Edad|Unidad de medida de edad|Sexo|Tipo de contagio|Ubicación del caso|Estado|Código ISO del país|Nombre del país|Recuperado|Fecha de inicio de síntomas|Fecha de muerte|Fecha de diagnóstico|Fecha de recuperación|Tipo de recuperación|Pertenencia étnica|Nombre del grupo étnico|\n",
            "+-----------------+----------+---------------------+----------------------------+-------------------+-------------------------+----------------+----+------------------------+----+----------------+------------------+------+-------------------+---------------+----------+---------------------------+---------------+--------------------+---------------------+--------------------+------------------+-----------------------+\n",
            "|22/3/2020 0:00:00|       238|    16/3/2020 0:00:00|                           5|          ANTIOQUIA|                     5001|        MEDELLIN|  61|                       1|   F|       Importado|              Casa|  Leve|                724|         ESPAÑA|Recuperado|          14/3/2020 0:00:00|           null|   22/3/2020 0:00:00|    11/4/2020 0:00:00|              Tiempo|                 6|                   null|\n",
            "|23/3/2020 0:00:00|       293|    18/3/2020 0:00:00|                           5|          ANTIOQUIA|                     5001|        MEDELLIN|  30|                       1|   F|       Importado|              Casa|  Leve|                218|        ECUADOR|Recuperado|          13/3/2020 0:00:00|           null|   23/3/2020 0:00:00|    13/4/2020 0:00:00|              Tiempo|                 6|                   null|\n",
            "|23/3/2020 0:00:00|       296|    19/3/2020 0:00:00|                           5|          ANTIOQUIA|                     5001|        MEDELLIN|  25|                       1|   F|     Relacionado|              Casa|  Leve|               null|           null|Recuperado|          15/3/2020 0:00:00|           null|   23/3/2020 0:00:00|    25/4/2020 0:00:00|              Tiempo|                 6|                   null|\n",
            "| 1/4/2020 0:00:00|       912|    27/3/2020 0:00:00|                           5|          ANTIOQUIA|                     5001|        MEDELLIN|  45|                       1|   F|     Relacionado|              Casa|  Leve|               null|           null|Recuperado|          19/3/2020 0:00:00|           null|    1/4/2020 0:00:00|     5/5/2020 0:00:00|              Tiempo|                 6|                   null|\n",
            "| 3/4/2020 0:00:00|      1191|    25/3/2020 0:00:00|                           5|          ANTIOQUIA|                     5001|        MEDELLIN|  23|                       1|   F|       Importado|              Casa|  Leve|                792|        TURQUÍA|Recuperado|          22/3/2020 0:00:00|           null|    3/4/2020 0:00:00|     6/5/2020 0:00:00|              Tiempo|                 1|            Por definir|\n",
            "+-----------------+----------+---------------------+----------------------------+-------------------+-------------------------+----------------+----+------------------------+----+----------------+------------------+------+-------------------+---------------+----------+---------------------------+---------------+--------------------+---------------------+--------------------+------------------+-----------------------+\n",
            "only showing top 5 rows\n",
            "\n"
          ]
        }
      ]
    },
    {
      "cell_type": "code",
      "source": [
        "# Filtrar la personas con tipo de contagio importado ubicadas en Ecuador\n",
        "df.filter((df['Tipo de contagio']=='Importado')&(df['Nombre del país']=='ECUADOR')).show(5)"
      ],
      "metadata": {
        "colab": {
          "base_uri": "https://localhost:8080/"
        },
        "id": "eFuLp0AkZWmw",
        "outputId": "495b028f-a25c-4690-a5b6-a2debf249fc1"
      },
      "execution_count": 23,
      "outputs": [
        {
          "output_type": "stream",
          "name": "stdout",
          "text": [
            "+-----------------+----------+---------------------+----------------------------+-------------------+-------------------------+----------------+----+------------------------+----+----------------+------------------+------+-------------------+---------------+----------+---------------------------+---------------+--------------------+---------------------+--------------------+------------------+-----------------------+\n",
            "|fecha reporte web|ID de caso|Fecha de notificación|Código DIVIPOLA departamento|Nombre departamento|Código DIVIPOLA municipio|Nombre municipio|Edad|Unidad de medida de edad|Sexo|Tipo de contagio|Ubicación del caso|Estado|Código ISO del país|Nombre del país|Recuperado|Fecha de inicio de síntomas|Fecha de muerte|Fecha de diagnóstico|Fecha de recuperación|Tipo de recuperación|Pertenencia étnica|Nombre del grupo étnico|\n",
            "+-----------------+----------+---------------------+----------------------------+-------------------+-------------------------+----------------+----+------------------------+----+----------------+------------------+------+-------------------+---------------+----------+---------------------------+---------------+--------------------+---------------------+--------------------+------------------+-----------------------+\n",
            "|16/3/2020 0:00:00|        51|    15/3/2020 0:00:00|                          25|       CUNDINAMARCA|                    25754|          SOACHA|  24|                       1|   M|       Importado|              Casa|  Leve|                218|        ECUADOR|Recuperado|          11/3/2020 0:00:00|           null|   16/3/2020 0:00:00|    28/3/2020 0:00:00|                 PCR|                 6|                   null|\n",
            "|17/3/2020 0:00:00|        84|    16/3/2020 0:00:00|                          76|              VALLE|                    76001|            CALI|  51|                       1|   M|       Importado|              Casa|  Leve|                218|        ECUADOR|Recuperado|          10/3/2020 0:00:00|           null|   17/3/2020 0:00:00|    10/4/2020 0:00:00|                 PCR|                 6|                   null|\n",
            "|19/3/2020 0:00:00|       115|    17/3/2020 0:00:00|                          11|             BOGOTA|                    11001|          BOGOTA|  29|                       1|   M|       Importado|              Casa|  Leve|                218|        ECUADOR|Recuperado|          15/3/2020 0:00:00|           null|   19/3/2020 0:00:00|    30/3/2020 0:00:00|                 PCR|                 6|                   null|\n",
            "|20/3/2020 0:00:00|       138|    17/3/2020 0:00:00|                          11|             BOGOTA|                    11001|          BOGOTA|  54|                       1|   M|       Importado|              Casa|  Leve|                218|        ECUADOR|Recuperado|          15/3/2020 0:00:00|           null|   20/3/2020 0:00:00|    25/4/2020 0:00:00|                 PCR|                 1|            Por definir|\n",
            "|20/3/2020 0:00:00|       151|    18/3/2020 0:00:00|                          11|             BOGOTA|                    11001|          BOGOTA|  47|                       1|   M|       Importado|              Casa|  Leve|                218|        ECUADOR|Recuperado|          15/3/2020 0:00:00|           null|   20/3/2020 0:00:00|    29/3/2020 0:00:00|                 PCR|                 6|                   null|\n",
            "+-----------------+----------+---------------------+----------------------------+-------------------+-------------------------+----------------+----+------------------------+----+----------------+------------------+------+-------------------+---------------+----------+---------------------------+---------------+--------------------+---------------------+--------------------+------------------+-----------------------+\n",
            "only showing top 5 rows\n",
            "\n"
          ]
        }
      ]
    },
    {
      "cell_type": "code",
      "source": [
        "# Filtrar los bebes de genero masculino menores a 5 años que fallecieron por COVID\n",
        "df.filter(df['Edad']<5).filter(df['Sexo']=='M').filter(df['Recuperado']=='Fallecido').show(5)"
      ],
      "metadata": {
        "colab": {
          "base_uri": "https://localhost:8080/"
        },
        "outputId": "c2eec945-86b9-4792-9433-56d19b6a15a1",
        "id": "zzGcNncBaLNL"
      },
      "execution_count": 24,
      "outputs": [
        {
          "output_type": "stream",
          "name": "stdout",
          "text": [
            "+-----------------+----------+---------------------+----------------------------+-------------------+-------------------------+--------------------+----+------------------------+----+----------------+------------------+---------+-------------------+---------------+----------+---------------------------+-----------------+--------------------+---------------------+--------------------+------------------+-----------------------+\n",
            "|fecha reporte web|ID de caso|Fecha de notificación|Código DIVIPOLA departamento|Nombre departamento|Código DIVIPOLA municipio|    Nombre municipio|Edad|Unidad de medida de edad|Sexo|Tipo de contagio|Ubicación del caso|   Estado|Código ISO del país|Nombre del país|Recuperado|Fecha de inicio de síntomas|  Fecha de muerte|Fecha de diagnóstico|Fecha de recuperación|Tipo de recuperación|Pertenencia étnica|Nombre del grupo étnico|\n",
            "+-----------------+----------+---------------------+----------------------------+-------------------+-------------------------+--------------------+----+------------------------+----+----------------+------------------+---------+-------------------+---------------+----------+---------------------------+-----------------+--------------------+---------------------+--------------------+------------------+-----------------------+\n",
            "|20/4/2020 0:00:00|      3964|    12/4/2020 0:00:00|                          25|       CUNDINAMARCA|                    25245|          EL COLEGIO|   1|                       2|   M|     Relacionado|         Fallecido|Fallecido|               null|           null| Fallecido|           3/4/2020 0:00:00|21/4/2020 0:00:00|   20/4/2020 0:00:00|                 null|                null|                 5|                   null|\n",
            "| 2/6/2020 0:00:00|     30925|    28/5/2020 0:00:00|                          20|              CESAR|                    20013|     AGUSTIN CODAZZI|   2|                       2|   M|     Relacionado|         Fallecido|Fallecido|               null|           null| Fallecido|          17/5/2020 0:00:00|10/6/2020 0:00:00|    2/6/2020 0:00:00|                 null|                null|                 1|                  YUKPA|\n",
            "| 9/6/2020 0:00:00|     41817|    29/5/2020 0:00:00|                          52|             NARIÑO|                    52696|SANTA BARBARA (IS...|   3|                       1|   M|     Comunitaria|         Fallecido|Fallecido|               null|           null| Fallecido|          28/5/2020 0:00:00|29/5/2020 0:00:00|    9/6/2020 0:00:00|                 null|                null|                 5|                   null|\n",
            "|11/6/2020 0:00:00|     44305|     8/6/2020 0:00:00|                        8001|       BARRANQUILLA|                     8001|        BARRANQUILLA|   2|                       2|   M|     Comunitaria|         Fallecido|Fallecido|               null|           null| Fallecido|           7/6/2020 0:00:00|14/6/2020 0:00:00|   11/6/2020 0:00:00|                 null|                null|                 6|                   null|\n",
            "+-----------------+----------+---------------------+----------------------------+-------------------+-------------------------+--------------------+----+------------------------+----+----------------+------------------+---------+-------------------+---------------+----------+---------------------------+-----------------+--------------------+---------------------+--------------------+------------------+-----------------------+\n",
            "\n"
          ]
        }
      ]
    },
    {
      "cell_type": "markdown",
      "source": [
        "#### 2.8. Ejecutar alguna función UDF o lambda sobre alguna columna creando una nueva"
      ],
      "metadata": {
        "id": "IO5xX48XX_Gw"
      }
    },
    {
      "cell_type": "code",
      "execution_count": 25,
      "metadata": {
        "id": "Fo4DoABA0iCY"
      },
      "outputs": [],
      "source": [
        "# Importar UDF y Pandas UDF\n",
        "from pyspark.sql.functions import udf, pandas_udf, PandasUDFType"
      ]
    },
    {
      "cell_type": "markdown",
      "source": [
        "Ejemplo 1 - Agregar una columna según el rango de edad de la persona"
      ],
      "metadata": {
        "id": "MtmL1VHPdc_t"
      }
    },
    {
      "cell_type": "code",
      "execution_count": 26,
      "metadata": {
        "colab": {
          "base_uri": "https://localhost:8080/"
        },
        "id": "6D3MjAGP0iCZ",
        "outputId": "e45cd3fe-b5bc-4e01-e8ac-a02245134826"
      },
      "outputs": [
        {
          "output_type": "stream",
          "name": "stdout",
          "text": [
            "+-----------------+----------+---------------------+----------------------------+-------------------+-------------------------+----------------+----+------------------------+----+----------------+------------------+------+-------------------+---------------+----------+---------------------------+---------------+--------------------+---------------------+--------------------+------------------+-----------------------+-------------+\n",
            "|fecha reporte web|ID de caso|Fecha de notificación|Código DIVIPOLA departamento|Nombre departamento|Código DIVIPOLA municipio|Nombre municipio|Edad|Unidad de medida de edad|Sexo|Tipo de contagio|Ubicación del caso|Estado|Código ISO del país|Nombre del país|Recuperado|Fecha de inicio de síntomas|Fecha de muerte|Fecha de diagnóstico|Fecha de recuperación|Tipo de recuperación|Pertenencia étnica|Nombre del grupo étnico|Rango de edad|\n",
            "+-----------------+----------+---------------------+----------------------------+-------------------+-------------------------+----------------+----+------------------------+----+----------------+------------------+------+-------------------+---------------+----------+---------------------------+---------------+--------------------+---------------------+--------------------+------------------+-----------------------+-------------+\n",
            "| 6/3/2020 0:00:00|         1|     2/3/2020 0:00:00|                          11|             BOGOTA|                    11001|          BOGOTA|  19|                       1|   F|       Importado|              Casa|  Leve|                380|         ITALIA|Recuperado|          27/2/2020 0:00:00|           null|    6/3/2020 0:00:00|    13/3/2020 0:00:00|                 PCR|                 6|                   null|        Joven|\n",
            "| 9/3/2020 0:00:00|         2|     6/3/2020 0:00:00|                          76|              VALLE|                    76111|            BUGA|  34|                       1|   M|       Importado|              Casa|  Leve|                724|         ESPAÑA|Recuperado|           4/3/2020 0:00:00|           null|    9/3/2020 0:00:00|    19/3/2020 0:00:00|                 PCR|                 5|                   null|        Joven|\n",
            "| 9/3/2020 0:00:00|         3|     7/3/2020 0:00:00|                           5|          ANTIOQUIA|                     5001|        MEDELLIN|  50|                       1|   F|       Importado|              Casa|  Leve|                724|         ESPAÑA|Recuperado|          29/2/2020 0:00:00|           null|    9/3/2020 0:00:00|    15/3/2020 0:00:00|                 PCR|                 6|                   null|       Adulto|\n",
            "|11/3/2020 0:00:00|         4|     9/3/2020 0:00:00|                           5|          ANTIOQUIA|                     5001|        MEDELLIN|  55|                       1|   M|     Relacionado|              Casa|  Leve|               null|           null|Recuperado|           6/3/2020 0:00:00|           null|   11/3/2020 0:00:00|    26/3/2020 0:00:00|                 PCR|                 6|                   null|       Adulto|\n",
            "|11/3/2020 0:00:00|         5|     9/3/2020 0:00:00|                           5|          ANTIOQUIA|                     5001|        MEDELLIN|  25|                       1|   M|     Relacionado|              Casa|  Leve|               null|           null|Recuperado|           8/3/2020 0:00:00|           null|   11/3/2020 0:00:00|    23/3/2020 0:00:00|                 PCR|                 6|                   null|        Joven|\n",
            "+-----------------+----------+---------------------+----------------------------+-------------------+-------------------------+----------------+----+------------------------+----+----------------+------------------+------+-------------------+---------------+----------+---------------------------+---------------+--------------------+---------------------+--------------------+------------------+-----------------------+-------------+\n",
            "only showing top 5 rows\n",
            "\n"
          ]
        }
      ],
      "source": [
        "# Función común\n",
        "def price_range(edad): \n",
        "    if edad < 18:\n",
        "      return 'Niño'\n",
        "    elif edad < 35:\n",
        "        return 'Joven'\n",
        "    elif edad < 65:\n",
        "        return 'Adulto'\n",
        "    else:\n",
        "        return 'Adulto mayor'\n",
        "\n",
        "# Crear el UDF usando la función común\n",
        "Edad_udf = udf(price_range, StringType())\n",
        "\n",
        "# Aplicar el UDF en el dataframe\n",
        "df.withColumn('Rango de edad',Edad_udf(df['Edad'])).show(5)"
      ]
    },
    {
      "cell_type": "code",
      "execution_count": 27,
      "metadata": {
        "colab": {
          "base_uri": "https://localhost:8080/"
        },
        "id": "e7HeD9Xs0iCa",
        "outputId": "84ffe7fd-28e8-4195-8c59-98a2bb62b9e1"
      },
      "outputs": [
        {
          "output_type": "stream",
          "name": "stdout",
          "text": [
            "+-----------------+----------+---------------------+----------------------------+-------------------+-------------------------+----------------+----+------------------------+----+----------------+------------------+------+-------------------+---------------+----------+---------------------------+---------------+--------------------+---------------------+--------------------+------------------+-----------------------+-------------+\n",
            "|fecha reporte web|ID de caso|Fecha de notificación|Código DIVIPOLA departamento|Nombre departamento|Código DIVIPOLA municipio|Nombre municipio|Edad|Unidad de medida de edad|Sexo|Tipo de contagio|Ubicación del caso|Estado|Código ISO del país|Nombre del país|Recuperado|Fecha de inicio de síntomas|Fecha de muerte|Fecha de diagnóstico|Fecha de recuperación|Tipo de recuperación|Pertenencia étnica|Nombre del grupo étnico|Rango de edad|\n",
            "+-----------------+----------+---------------------+----------------------------+-------------------+-------------------------+----------------+----+------------------------+----+----------------+------------------+------+-------------------+---------------+----------+---------------------------+---------------+--------------------+---------------------+--------------------+------------------+-----------------------+-------------+\n",
            "| 6/3/2020 0:00:00|         1|     2/3/2020 0:00:00|                          11|             BOGOTA|                    11001|          BOGOTA|  19|                       1|   F|       Importado|              Casa|  Leve|                380|         ITALIA|Recuperado|          27/2/2020 0:00:00|           null|    6/3/2020 0:00:00|    13/3/2020 0:00:00|                 PCR|                 6|                   null|        Joven|\n",
            "| 9/3/2020 0:00:00|         2|     6/3/2020 0:00:00|                          76|              VALLE|                    76111|            BUGA|  34|                       1|   M|       Importado|              Casa|  Leve|                724|         ESPAÑA|Recuperado|           4/3/2020 0:00:00|           null|    9/3/2020 0:00:00|    19/3/2020 0:00:00|                 PCR|                 5|                   null|        Joven|\n",
            "| 9/3/2020 0:00:00|         3|     7/3/2020 0:00:00|                           5|          ANTIOQUIA|                     5001|        MEDELLIN|  50|                       1|   F|       Importado|              Casa|  Leve|                724|         ESPAÑA|Recuperado|          29/2/2020 0:00:00|           null|    9/3/2020 0:00:00|    15/3/2020 0:00:00|                 PCR|                 6|                   null|       Adulto|\n",
            "|11/3/2020 0:00:00|         4|     9/3/2020 0:00:00|                           5|          ANTIOQUIA|                     5001|        MEDELLIN|  55|                       1|   M|     Relacionado|              Casa|  Leve|               null|           null|Recuperado|           6/3/2020 0:00:00|           null|   11/3/2020 0:00:00|    26/3/2020 0:00:00|                 PCR|                 6|                   null|       Adulto|\n",
            "|11/3/2020 0:00:00|         5|     9/3/2020 0:00:00|                           5|          ANTIOQUIA|                     5001|        MEDELLIN|  25|                       1|   M|     Relacionado|              Casa|  Leve|               null|           null|Recuperado|           8/3/2020 0:00:00|           null|   11/3/2020 0:00:00|    23/3/2020 0:00:00|                 PCR|                 6|                   null|        Joven|\n",
            "+-----------------+----------+---------------------+----------------------------+-------------------+-------------------------+----------------+----+------------------------+----+----------------+------------------+------+-------------------+---------------+----------+---------------------------+---------------+--------------------+---------------------+--------------------+------------------+-----------------------+-------------+\n",
            "only showing top 5 rows\n",
            "\n"
          ]
        }
      ],
      "source": [
        "# Crear el UDF usando la función lambda\n",
        "Edad_udf2 = udf(lambda edad: \"Niño\" if edad < 18 else \"Joven\" if edad < 35 else \"Adulto\" if edad < 65 else \"Adulto mayor\", StringType())\n",
        "\n",
        "# Aplicar el UDF en el dataframe\n",
        "df.withColumn('Rango de edad',Edad_udf2(df['Edad'])).show(5)"
      ]
    },
    {
      "cell_type": "markdown",
      "source": [
        "Ejemplo 2 - Agregar una columna de la ubicación de la persona, la cual indique su  departamento y municipio"
      ],
      "metadata": {
        "id": "UpUHcLrKetP0"
      }
    },
    {
      "cell_type": "code",
      "source": [
        "# Función común\n",
        "def ubicacion(dpto, mpio):\n",
        "    ubicacion = dpto + \", \" + mpio\n",
        "    return ubicacion\n",
        "\n",
        "# Crear el UDF usando la función común con Pandas UDF\n",
        "ubicacion_udf = pandas_udf(ubicacion, StringType())\n",
        "\n",
        "# Aplicar el UDF en el dataframe\n",
        "df.withColumn('Ubicacion',ubicacion_udf(df['Nombre departamento'], df['Nombre municipio'])).show(5)"
      ],
      "metadata": {
        "colab": {
          "base_uri": "https://localhost:8080/"
        },
        "id": "VoKLqPV7ozD_",
        "outputId": "3903a994-1a2d-4d1d-8dad-3db3807fa222"
      },
      "execution_count": 28,
      "outputs": [
        {
          "output_type": "stream",
          "name": "stdout",
          "text": [
            "+-----------------+----------+---------------------+----------------------------+-------------------+-------------------------+----------------+----+------------------------+----+----------------+------------------+------+-------------------+---------------+----------+---------------------------+---------------+--------------------+---------------------+--------------------+------------------+-----------------------+-------------------+\n",
            "|fecha reporte web|ID de caso|Fecha de notificación|Código DIVIPOLA departamento|Nombre departamento|Código DIVIPOLA municipio|Nombre municipio|Edad|Unidad de medida de edad|Sexo|Tipo de contagio|Ubicación del caso|Estado|Código ISO del país|Nombre del país|Recuperado|Fecha de inicio de síntomas|Fecha de muerte|Fecha de diagnóstico|Fecha de recuperación|Tipo de recuperación|Pertenencia étnica|Nombre del grupo étnico|          Ubicacion|\n",
            "+-----------------+----------+---------------------+----------------------------+-------------------+-------------------------+----------------+----+------------------------+----+----------------+------------------+------+-------------------+---------------+----------+---------------------------+---------------+--------------------+---------------------+--------------------+------------------+-----------------------+-------------------+\n",
            "| 6/3/2020 0:00:00|         1|     2/3/2020 0:00:00|                          11|             BOGOTA|                    11001|          BOGOTA|  19|                       1|   F|       Importado|              Casa|  Leve|                380|         ITALIA|Recuperado|          27/2/2020 0:00:00|           null|    6/3/2020 0:00:00|    13/3/2020 0:00:00|                 PCR|                 6|                   null|     BOGOTA, BOGOTA|\n",
            "| 9/3/2020 0:00:00|         2|     6/3/2020 0:00:00|                          76|              VALLE|                    76111|            BUGA|  34|                       1|   M|       Importado|              Casa|  Leve|                724|         ESPAÑA|Recuperado|           4/3/2020 0:00:00|           null|    9/3/2020 0:00:00|    19/3/2020 0:00:00|                 PCR|                 5|                   null|        VALLE, BUGA|\n",
            "| 9/3/2020 0:00:00|         3|     7/3/2020 0:00:00|                           5|          ANTIOQUIA|                     5001|        MEDELLIN|  50|                       1|   F|       Importado|              Casa|  Leve|                724|         ESPAÑA|Recuperado|          29/2/2020 0:00:00|           null|    9/3/2020 0:00:00|    15/3/2020 0:00:00|                 PCR|                 6|                   null|ANTIOQUIA, MEDELLIN|\n",
            "|11/3/2020 0:00:00|         4|     9/3/2020 0:00:00|                           5|          ANTIOQUIA|                     5001|        MEDELLIN|  55|                       1|   M|     Relacionado|              Casa|  Leve|               null|           null|Recuperado|           6/3/2020 0:00:00|           null|   11/3/2020 0:00:00|    26/3/2020 0:00:00|                 PCR|                 6|                   null|ANTIOQUIA, MEDELLIN|\n",
            "|11/3/2020 0:00:00|         5|     9/3/2020 0:00:00|                           5|          ANTIOQUIA|                     5001|        MEDELLIN|  25|                       1|   M|     Relacionado|              Casa|  Leve|               null|           null|Recuperado|           8/3/2020 0:00:00|           null|   11/3/2020 0:00:00|    23/3/2020 0:00:00|                 PCR|                 6|                   null|ANTIOQUIA, MEDELLIN|\n",
            "+-----------------+----------+---------------------+----------------------------+-------------------+-------------------------+----------------+----+------------------------+----+----------------+------------------+------+-------------------+---------------+----------+---------------------------+---------------+--------------------+---------------------+--------------------+------------------+-----------------------+-------------------+\n",
            "only showing top 5 rows\n",
            "\n"
          ]
        }
      ]
    },
    {
      "cell_type": "code",
      "execution_count": 29,
      "metadata": {
        "colab": {
          "base_uri": "https://localhost:8080/"
        },
        "id": "zwpqHVN40iCd",
        "outputId": "4448a4ce-93d7-48fa-9b6f-81b9dea3d653"
      },
      "outputs": [
        {
          "output_type": "stream",
          "name": "stdout",
          "text": [
            "+-----------------+----------+---------------------+----------------------------+-------------------+-------------------------+----------------+----+------------------------+----+----------------+------------------+------+-------------------+---------------+----------+---------------------------+---------------+--------------------+---------------------+--------------------+------------------+-----------------------+-------------------+\n",
            "|fecha reporte web|ID de caso|Fecha de notificación|Código DIVIPOLA departamento|Nombre departamento|Código DIVIPOLA municipio|Nombre municipio|Edad|Unidad de medida de edad|Sexo|Tipo de contagio|Ubicación del caso|Estado|Código ISO del país|Nombre del país|Recuperado|Fecha de inicio de síntomas|Fecha de muerte|Fecha de diagnóstico|Fecha de recuperación|Tipo de recuperación|Pertenencia étnica|Nombre del grupo étnico|          Ubicacion|\n",
            "+-----------------+----------+---------------------+----------------------------+-------------------+-------------------------+----------------+----+------------------------+----+----------------+------------------+------+-------------------+---------------+----------+---------------------------+---------------+--------------------+---------------------+--------------------+------------------+-----------------------+-------------------+\n",
            "| 6/3/2020 0:00:00|         1|     2/3/2020 0:00:00|                          11|             BOGOTA|                    11001|          BOGOTA|  19|                       1|   F|       Importado|              Casa|  Leve|                380|         ITALIA|Recuperado|          27/2/2020 0:00:00|           null|    6/3/2020 0:00:00|    13/3/2020 0:00:00|                 PCR|                 6|                   null|     BOGOTA, BOGOTA|\n",
            "| 9/3/2020 0:00:00|         2|     6/3/2020 0:00:00|                          76|              VALLE|                    76111|            BUGA|  34|                       1|   M|       Importado|              Casa|  Leve|                724|         ESPAÑA|Recuperado|           4/3/2020 0:00:00|           null|    9/3/2020 0:00:00|    19/3/2020 0:00:00|                 PCR|                 5|                   null|        VALLE, BUGA|\n",
            "| 9/3/2020 0:00:00|         3|     7/3/2020 0:00:00|                           5|          ANTIOQUIA|                     5001|        MEDELLIN|  50|                       1|   F|       Importado|              Casa|  Leve|                724|         ESPAÑA|Recuperado|          29/2/2020 0:00:00|           null|    9/3/2020 0:00:00|    15/3/2020 0:00:00|                 PCR|                 6|                   null|ANTIOQUIA, MEDELLIN|\n",
            "|11/3/2020 0:00:00|         4|     9/3/2020 0:00:00|                           5|          ANTIOQUIA|                     5001|        MEDELLIN|  55|                       1|   M|     Relacionado|              Casa|  Leve|               null|           null|Recuperado|           6/3/2020 0:00:00|           null|   11/3/2020 0:00:00|    26/3/2020 0:00:00|                 PCR|                 6|                   null|ANTIOQUIA, MEDELLIN|\n",
            "|11/3/2020 0:00:00|         5|     9/3/2020 0:00:00|                           5|          ANTIOQUIA|                     5001|        MEDELLIN|  25|                       1|   M|     Relacionado|              Casa|  Leve|               null|           null|Recuperado|           8/3/2020 0:00:00|           null|   11/3/2020 0:00:00|    23/3/2020 0:00:00|                 PCR|                 6|                   null|ANTIOQUIA, MEDELLIN|\n",
            "+-----------------+----------+---------------------+----------------------------+-------------------+-------------------------+----------------+----+------------------------+----+----------------+------------------+------+-------------------+---------------+----------+---------------------------+---------------+--------------------+---------------------+--------------------+------------------+-----------------------+-------------------+\n",
            "only showing top 5 rows\n",
            "\n"
          ]
        }
      ],
      "source": [
        "# Crear el UDF usando la función lambda con Pandas UDF\n",
        "ubicacion_udf2 = pandas_udf(lambda dpto, mpio: dpto + ', ' + mpio, StringType())\n",
        "\n",
        "# Aplicar el UDF en el dataframe\n",
        "df.withColumn('Ubicacion',ubicacion_udf2(df['Nombre departamento'],df['Nombre municipio'])).show(5)"
      ]
    },
    {
      "cell_type": "markdown",
      "source": [
        "### Preguntas adicionales"
      ],
      "metadata": {
        "id": "OJI83W8K9yPp"
      }
    },
    {
      "cell_type": "code",
      "source": [
        "df.createOrReplaceTempView(\"dataset_covid_sql\")"
      ],
      "metadata": {
        "id": "34hWSnG_lPXb"
      },
      "execution_count": 30,
      "outputs": []
    },
    {
      "cell_type": "markdown",
      "source": [
        "#### 3.1. Los 10 departamentos con más casos de covid en Colombia ordenados de mayor a menor"
      ],
      "metadata": {
        "id": "imfa1rqQ-H9G"
      }
    },
    {
      "cell_type": "code",
      "source": [
        "df.groupBy('Nombre departamento').count().orderBy('count',ascending=False).show(10)"
      ],
      "metadata": {
        "colab": {
          "base_uri": "https://localhost:8080/"
        },
        "id": "vqNf5_1-eSAm",
        "outputId": "747f5e4c-98df-4a59-f5e0-6d69e676c2c2"
      },
      "execution_count": 31,
      "outputs": [
        {
          "output_type": "stream",
          "name": "stdout",
          "text": [
            "+-------------------+-----+\n",
            "|Nombre departamento|count|\n",
            "+-------------------+-----+\n",
            "|             BOGOTA|30016|\n",
            "|       BARRANQUILLA|13065|\n",
            "|          ATLANTICO|10994|\n",
            "|              VALLE|10404|\n",
            "|          CARTAGENA| 8333|\n",
            "|          ANTIOQUIA| 4554|\n",
            "|             NARIÑO| 3520|\n",
            "|       CUNDINAMARCA| 2827|\n",
            "|           AMAZONAS| 2317|\n",
            "|              CHOCO| 1636|\n",
            "+-------------------+-----+\n",
            "only showing top 10 rows\n",
            "\n"
          ]
        }
      ]
    },
    {
      "cell_type": "code",
      "source": [
        "spark.sql(\"\"\"SELECT `Nombre departamento`,\n",
        "COUNT(*)\n",
        "FROM dataset_covid_sql\n",
        "GROUP BY `Nombre departamento`\n",
        "ORDER BY COUNT(*)\n",
        "DESC\"\"\").show(10)"
      ],
      "metadata": {
        "colab": {
          "base_uri": "https://localhost:8080/"
        },
        "id": "-fr7uRPOlWiu",
        "outputId": "63aa6181-506f-4f73-9489-db8161da7546"
      },
      "execution_count": 32,
      "outputs": [
        {
          "output_type": "stream",
          "name": "stdout",
          "text": [
            "+-------------------+--------+\n",
            "|Nombre departamento|count(1)|\n",
            "+-------------------+--------+\n",
            "|             BOGOTA|   30016|\n",
            "|       BARRANQUILLA|   13065|\n",
            "|          ATLANTICO|   10994|\n",
            "|              VALLE|   10404|\n",
            "|          CARTAGENA|    8333|\n",
            "|          ANTIOQUIA|    4554|\n",
            "|             NARIÑO|    3520|\n",
            "|       CUNDINAMARCA|    2827|\n",
            "|           AMAZONAS|    2317|\n",
            "|              CHOCO|    1636|\n",
            "+-------------------+--------+\n",
            "only showing top 10 rows\n",
            "\n"
          ]
        }
      ]
    },
    {
      "cell_type": "markdown",
      "source": [
        "#### 3.2. Las 10 ciudades con más casos de covid en Colombia ordenados de mayor a menor"
      ],
      "metadata": {
        "id": "rDvzfBmS-UEb"
      }
    },
    {
      "cell_type": "code",
      "source": [
        "df.groupBy('Nombre municipio').count().orderBy('count',ascending=False).show(10)"
      ],
      "metadata": {
        "colab": {
          "base_uri": "https://localhost:8080/"
        },
        "id": "xncH3GIEfmJ1",
        "outputId": "aa2d8b26-07c5-4645-d36f-cf212212b8ad"
      },
      "execution_count": 33,
      "outputs": [
        {
          "output_type": "stream",
          "name": "stdout",
          "text": [
            "+----------------+-----+\n",
            "|Nombre municipio|count|\n",
            "+----------------+-----+\n",
            "|          BOGOTA|30016|\n",
            "|    BARRANQUILLA|13065|\n",
            "|       CARTAGENA| 8333|\n",
            "|            CALI| 7747|\n",
            "|         SOLEDAD| 6233|\n",
            "|         LETICIA| 2194|\n",
            "|        MEDELLIN| 2137|\n",
            "|          TUMACO| 1501|\n",
            "|    BUENAVENTURA| 1453|\n",
            "|          QUIBDO| 1367|\n",
            "+----------------+-----+\n",
            "only showing top 10 rows\n",
            "\n"
          ]
        }
      ]
    },
    {
      "cell_type": "code",
      "source": [
        "spark.sql(\"\"\"SELECT `Nombre municipio`,\n",
        "COUNT(*)\n",
        "FROM dataset_covid_sql\n",
        "GROUP BY `Nombre municipio`\n",
        "ORDER BY COUNT(*)\n",
        "DESC\"\"\").show(10)"
      ],
      "metadata": {
        "colab": {
          "base_uri": "https://localhost:8080/"
        },
        "id": "dkhkTglQoZlz",
        "outputId": "22b1343f-abf2-4462-9bf9-932b73d58316"
      },
      "execution_count": 34,
      "outputs": [
        {
          "output_type": "stream",
          "name": "stdout",
          "text": [
            "+----------------+--------+\n",
            "|Nombre municipio|count(1)|\n",
            "+----------------+--------+\n",
            "|          BOGOTA|   30016|\n",
            "|    BARRANQUILLA|   13065|\n",
            "|       CARTAGENA|    8333|\n",
            "|            CALI|    7747|\n",
            "|         SOLEDAD|    6233|\n",
            "|         LETICIA|    2194|\n",
            "|        MEDELLIN|    2137|\n",
            "|          TUMACO|    1501|\n",
            "|    BUENAVENTURA|    1453|\n",
            "|          QUIBDO|    1367|\n",
            "+----------------+--------+\n",
            "only showing top 10 rows\n",
            "\n"
          ]
        }
      ]
    },
    {
      "cell_type": "markdown",
      "source": [
        "#### 3.3. Los 10 días con más casos de covid en Colombia ordenados de mayor a menor"
      ],
      "metadata": {
        "id": "Dwa87FPy-Xry"
      }
    },
    {
      "cell_type": "code",
      "source": [
        "df.groupBy('Fecha de diagnóstico').count().orderBy('count',ascending=False).show(10)"
      ],
      "metadata": {
        "colab": {
          "base_uri": "https://localhost:8080/"
        },
        "id": "0htZ8CkogCm8",
        "outputId": "ff1c0fb5-aeb5-4c0b-947c-174c5ab1703a"
      },
      "execution_count": 35,
      "outputs": [
        {
          "output_type": "stream",
          "name": "stdout",
          "text": [
            "+--------------------+-----+\n",
            "|Fecha de diagnóstico|count|\n",
            "+--------------------+-----+\n",
            "|   26/6/2020 0:00:00| 4390|\n",
            "|   27/6/2020 0:00:00| 4019|\n",
            "|   28/6/2020 0:00:00| 3580|\n",
            "|   25/6/2020 0:00:00| 3381|\n",
            "|   19/6/2020 0:00:00| 3053|\n",
            "|   18/6/2020 0:00:00| 3040|\n",
            "|   23/6/2020 0:00:00| 3031|\n",
            "|   22/6/2020 0:00:00| 2938|\n",
            "|   21/6/2020 0:00:00| 2781|\n",
            "|   24/6/2020 0:00:00| 2564|\n",
            "+--------------------+-----+\n",
            "only showing top 10 rows\n",
            "\n"
          ]
        }
      ]
    },
    {
      "cell_type": "code",
      "source": [
        "spark.sql(\"\"\"SELECT `Fecha de diagnóstico`,\n",
        "COUNT(*)\n",
        "FROM dataset_covid_sql\n",
        "GROUP BY `Fecha de diagnóstico`\n",
        "ORDER BY COUNT(*)\n",
        "DESC\"\"\").show(10)"
      ],
      "metadata": {
        "colab": {
          "base_uri": "https://localhost:8080/"
        },
        "id": "WB1ZeSE6pbsu",
        "outputId": "2cc5e38f-c457-4ac5-a3cd-f49954bdc8a8"
      },
      "execution_count": 36,
      "outputs": [
        {
          "output_type": "stream",
          "name": "stdout",
          "text": [
            "+--------------------+--------+\n",
            "|Fecha de diagnóstico|count(1)|\n",
            "+--------------------+--------+\n",
            "|   26/6/2020 0:00:00|    4390|\n",
            "|   27/6/2020 0:00:00|    4019|\n",
            "|   28/6/2020 0:00:00|    3580|\n",
            "|   25/6/2020 0:00:00|    3381|\n",
            "|   19/6/2020 0:00:00|    3053|\n",
            "|   18/6/2020 0:00:00|    3040|\n",
            "|   23/6/2020 0:00:00|    3031|\n",
            "|   22/6/2020 0:00:00|    2938|\n",
            "|   21/6/2020 0:00:00|    2781|\n",
            "|   24/6/2020 0:00:00|    2564|\n",
            "+--------------------+--------+\n",
            "only showing top 10 rows\n",
            "\n"
          ]
        }
      ]
    },
    {
      "cell_type": "markdown",
      "source": [
        "#### 3.4. Distribución de casos por edades de covid en Colombia"
      ],
      "metadata": {
        "id": "ORiBEJWr-b8C"
      }
    },
    {
      "cell_type": "code",
      "source": [
        "df.groupBy('Edad').count().orderBy('Edad',ascending=True).show()"
      ],
      "metadata": {
        "colab": {
          "base_uri": "https://localhost:8080/"
        },
        "id": "UZWHdfX2gZkc",
        "outputId": "ee8f79bd-8907-428a-f4c3-3ca9bd809184"
      },
      "execution_count": 37,
      "outputs": [
        {
          "output_type": "stream",
          "name": "stdout",
          "text": [
            "+----+-----+\n",
            "|Edad|count|\n",
            "+----+-----+\n",
            "|   1|  485|\n",
            "|   2|  440|\n",
            "|   3|  449|\n",
            "|   4|  373|\n",
            "|   5|  425|\n",
            "|   6|  431|\n",
            "|   7|  442|\n",
            "|   8|  461|\n",
            "|   9|  467|\n",
            "|  10|  530|\n",
            "|  11|  566|\n",
            "|  12|  562|\n",
            "|  13|  531|\n",
            "|  14|  580|\n",
            "|  15|  560|\n",
            "|  16|  600|\n",
            "|  17|  685|\n",
            "|  18| 1160|\n",
            "|  19| 1567|\n",
            "|  20| 1674|\n",
            "+----+-----+\n",
            "only showing top 20 rows\n",
            "\n"
          ]
        }
      ]
    },
    {
      "cell_type": "code",
      "source": [
        "spark.sql(\"\"\"SELECT Edad,\n",
        "COUNT(*)\n",
        "FROM dataset_covid_sql\n",
        "GROUP BY Edad\n",
        "ORDER BY Edad\n",
        "ASC\"\"\").show()"
      ],
      "metadata": {
        "colab": {
          "base_uri": "https://localhost:8080/"
        },
        "id": "kvS7GGsuplad",
        "outputId": "17f6957f-279c-4feb-bc4e-fcd33b0454dd"
      },
      "execution_count": 38,
      "outputs": [
        {
          "output_type": "stream",
          "name": "stdout",
          "text": [
            "+----+--------+\n",
            "|Edad|count(1)|\n",
            "+----+--------+\n",
            "|   1|     485|\n",
            "|   2|     440|\n",
            "|   3|     449|\n",
            "|   4|     373|\n",
            "|   5|     425|\n",
            "|   6|     431|\n",
            "|   7|     442|\n",
            "|   8|     461|\n",
            "|   9|     467|\n",
            "|  10|     530|\n",
            "|  11|     566|\n",
            "|  12|     562|\n",
            "|  13|     531|\n",
            "|  14|     580|\n",
            "|  15|     560|\n",
            "|  16|     600|\n",
            "|  17|     685|\n",
            "|  18|    1160|\n",
            "|  19|    1567|\n",
            "|  20|    1674|\n",
            "+----+--------+\n",
            "only showing top 20 rows\n",
            "\n"
          ]
        }
      ]
    },
    {
      "cell_type": "markdown",
      "source": [
        "#### 3.5. Realice la pregunta de negocio que quiera sobre los datos y respondala con la correspondiente programación en Spark"
      ],
      "metadata": {
        "id": "1tGwIpwm-gAl"
      }
    },
    {
      "cell_type": "markdown",
      "source": [
        "¿Cual es la edad promedio de los hombres contagiados de la ciudad de Medellín?"
      ],
      "metadata": {
        "id": "6ty3d5LBhYUD"
      }
    },
    {
      "cell_type": "code",
      "source": [
        "df.filter(df['Nombre municipio']=='MEDELLIN').filter(df['Sexo']=='M').agg({'Edad':'mean'}).show()"
      ],
      "metadata": {
        "colab": {
          "base_uri": "https://localhost:8080/"
        },
        "id": "u36-zrtFh5iv",
        "outputId": "9408a048-e32a-448d-dfd8-fb70a60a6efc"
      },
      "execution_count": 39,
      "outputs": [
        {
          "output_type": "stream",
          "name": "stdout",
          "text": [
            "+-----------------+\n",
            "|        avg(Edad)|\n",
            "+-----------------+\n",
            "|37.51642335766423|\n",
            "+-----------------+\n",
            "\n"
          ]
        }
      ]
    },
    {
      "cell_type": "code",
      "source": [
        "spark.sql(\"\"\"SELECT AVG(Edad)\n",
        "FROM dataset_covid_sql\n",
        "WHERE `Nombre municipio`='MEDELLIN'\n",
        "AND `Sexo`='M'\n",
        "\"\"\").show()"
      ],
      "metadata": {
        "colab": {
          "base_uri": "https://localhost:8080/"
        },
        "id": "Z5lp_-jwq1h5",
        "outputId": "c5a010a7-ae72-4242-93ae-3fbe010b90a4"
      },
      "execution_count": 40,
      "outputs": [
        {
          "output_type": "stream",
          "name": "stdout",
          "text": [
            "+-----------------+\n",
            "|        avg(Edad)|\n",
            "+-----------------+\n",
            "|37.51642335766423|\n",
            "+-----------------+\n",
            "\n"
          ]
        }
      ]
    },
    {
      "cell_type": "markdown",
      "source": [
        "¿Cual es la edad promedio de las mujeres contagiadas distribuidas por departamentos de menor a mayor?"
      ],
      "metadata": {
        "id": "XS3BjbNLi0nY"
      }
    },
    {
      "cell_type": "code",
      "source": [
        "df.groupBy('Nombre departamento').agg({'Edad':'mean'}).orderBy('avg(Edad)').show()"
      ],
      "metadata": {
        "colab": {
          "base_uri": "https://localhost:8080/"
        },
        "outputId": "b3d93f94-6786-4821-86f3-c97cf4ee67b4",
        "id": "TtoD_ANLjGBX"
      },
      "execution_count": 41,
      "outputs": [
        {
          "output_type": "stream",
          "name": "stdout",
          "text": [
            "+-------------------+------------------+\n",
            "|Nombre departamento|         avg(Edad)|\n",
            "+-------------------+------------------+\n",
            "|            VICHADA|              20.0|\n",
            "|           GUAVIARE| 26.23076923076923|\n",
            "|             ARAUCA|26.329113924050635|\n",
            "|               META|35.321513002364064|\n",
            "|         SAN ANDRES| 35.95652173913044|\n",
            "|          ANTIOQUIA|36.193895476504174|\n",
            "|            CAQUETA| 36.23076923076923|\n",
            "|            GUAINIA| 36.57142857142857|\n",
            "|             VAUPES| 36.57142857142857|\n",
            "|           AMAZONAS| 36.72378075097108|\n",
            "|              CESAR| 37.00757575757576|\n",
            "|          SANTANDER| 37.12169312169312|\n",
            "|              CHOCO|37.673594132029336|\n",
            "|            GUAJIRA|              37.8|\n",
            "|             TOLIMA| 38.01974333662389|\n",
            "|             NARIÑO|38.269602272727276|\n",
            "|       CUNDINAMARCA|38.392642377078175|\n",
            "|          RISARALDA| 38.56697247706422|\n",
            "|             BOGOTA|38.625966151385924|\n",
            "|            BOLIVAR|39.503006012024045|\n",
            "+-------------------+------------------+\n",
            "only showing top 20 rows\n",
            "\n"
          ]
        }
      ]
    },
    {
      "cell_type": "code",
      "source": [
        "spark.sql(\"\"\"SELECT `Nombre departamento`, AVG(Edad)\n",
        "FROM dataset_covid_sql\n",
        "GROUP BY `Nombre departamento`\n",
        "ORDER BY AVG(Edad)\n",
        "ASC\n",
        "\"\"\").show()"
      ],
      "metadata": {
        "colab": {
          "base_uri": "https://localhost:8080/"
        },
        "id": "oO6F5sM_sasF",
        "outputId": "d8d55f2f-2121-4d1e-e990-befe49d8b40e"
      },
      "execution_count": 42,
      "outputs": [
        {
          "output_type": "stream",
          "name": "stdout",
          "text": [
            "+-------------------+------------------+\n",
            "|Nombre departamento|         avg(Edad)|\n",
            "+-------------------+------------------+\n",
            "|            VICHADA|              20.0|\n",
            "|           GUAVIARE| 26.23076923076923|\n",
            "|             ARAUCA|26.329113924050635|\n",
            "|               META|35.321513002364064|\n",
            "|         SAN ANDRES| 35.95652173913044|\n",
            "|          ANTIOQUIA|36.193895476504174|\n",
            "|            CAQUETA| 36.23076923076923|\n",
            "|            GUAINIA| 36.57142857142857|\n",
            "|             VAUPES| 36.57142857142857|\n",
            "|           AMAZONAS| 36.72378075097108|\n",
            "|              CESAR| 37.00757575757576|\n",
            "|          SANTANDER| 37.12169312169312|\n",
            "|              CHOCO|37.673594132029336|\n",
            "|            GUAJIRA|              37.8|\n",
            "|             TOLIMA| 38.01974333662389|\n",
            "|             NARIÑO|38.269602272727276|\n",
            "|       CUNDINAMARCA|38.392642377078175|\n",
            "|          RISARALDA| 38.56697247706422|\n",
            "|             BOGOTA|38.625966151385924|\n",
            "|            BOLIVAR|39.503006012024045|\n",
            "+-------------------+------------------+\n",
            "only showing top 20 rows\n",
            "\n"
          ]
        }
      ]
    }
  ],
  "metadata": {
    "kernelspec": {
      "display_name": "Python 3.10.8 64-bit",
      "language": "python",
      "name": "python3"
    },
    "language_info": {
      "codemirror_mode": {
        "name": "ipython",
        "version": 3
      },
      "file_extension": ".py",
      "mimetype": "text/x-python",
      "name": "python",
      "nbconvert_exporter": "python",
      "pygments_lexer": "ipython3",
      "version": "3.10.8"
    },
    "vscode": {
      "interpreter": {
        "hash": "aee8b7b246df8f9039afb4144a1f6fd8d2ca17a180786b69acc140d282b71a49"
      }
    },
    "colab": {
      "provenance": []
    }
  },
  "nbformat": 4,
  "nbformat_minor": 0
}